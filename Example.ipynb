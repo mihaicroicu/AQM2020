{
 "cells": [
  {
   "cell_type": "code",
   "execution_count": 1,
   "metadata": {},
   "outputs": [
    {
     "name": "stderr",
     "output_type": "stream",
     "text": [
      "Loading required package: Matrix\n",
      "\n"
     ]
    }
   ],
   "source": [
    "# Data from Weidmann and Roed 2019\n",
    "\n",
    "rm(list = ls()) # Clear workspace\n",
    "\n",
    "library(\"lme4\") # For multilevel models\n",
    "\n",
    "load(\"Lecture7_data.RData\") # Data at the city-year level\n",
    "\n",
    "# Getting to know the data - more here for a thorough analysis\n"
   ]
  },
  {
   "cell_type": "code",
   "execution_count": 2,
   "metadata": {},
   "outputs": [
    {
     "data": {
      "text/plain": [
       "   geonameid           cowcode           year        nrprotests     \n",
       " Min.   :   32909   Min.   : 40.0   Min.   :2004   Min.   :  0.000  \n",
       " 1st Qu.: 1033356   1st Qu.:600.0   1st Qu.:2006   1st Qu.:  0.000  \n",
       " Median : 1812491   Median :710.0   Median :2008   Median :  0.000  \n",
       " Mean   : 3241959   Mean   :627.8   Mean   :2008   Mean   :  0.549  \n",
       " 3rd Qu.: 7001367   3rd Qu.:710.0   3rd Qu.:2010   3rd Qu.:  0.000  \n",
       " Max.   :11054823   Max.   :830.0   Max.   :2012   Max.   :163.000  \n",
       "                                                                    \n",
       "  nrprotests_l      lspop2008_5k_centered nightlights_5k_pc_l_centered\n",
       " Min.   :  0.0000   Min.   :-2.741798     Min.   :-2.4474788          \n",
       " 1st Qu.:  0.0000   1st Qu.:-0.444120     1st Qu.:-0.3323680          \n",
       " Median :  0.0000   Median :-0.131991     Median : 0.0834102          \n",
       " Mean   :  0.5141   Mean   :-0.000827     Mean   :-0.0004899          \n",
       " 3rd Qu.:  0.0000   3rd Qu.: 0.405967     3rd Qu.: 0.4067887          \n",
       " Max.   :163.0000   Max.   : 2.141268     Max.   : 2.0255472          \n",
       " NA's   :1564                                                         "
      ]
     },
     "metadata": {},
     "output_type": "display_data"
    },
    {
     "data": {
      "text/plain": [
       "   Min. 1st Qu.  Median    Mean 3rd Qu.    Max. \n",
       "   2004    2006    2008    2008    2010    2012 "
      ]
     },
     "metadata": {},
     "output_type": "display_data"
    }
   ],
   "source": [
    "summary(cityyear.data)\n",
    "summary(cityyear.data$year)\n"
   ]
  },
  {
   "cell_type": "code",
   "execution_count": 3,
   "metadata": {},
   "outputs": [],
   "source": [
    "ncities <- unique(cityyear.data$geonameid)\n",
    "ncountries <- unique(cityyear.data$cowcode)"
   ]
  },
  {
   "cell_type": "code",
   "execution_count": 7,
   "metadata": {},
   "outputs": [
    {
     "data": {
      "text/html": [
       "1564"
      ],
      "text/latex": [
       "1564"
      ],
      "text/markdown": [
       "1564"
      ],
      "text/plain": [
       "[1] 1564"
      ]
     },
     "metadata": {},
     "output_type": "display_data"
    }
   ],
   "source": [
    "length(ncities)"
   ]
  },
  {
   "cell_type": "code",
   "execution_count": 8,
   "metadata": {},
   "outputs": [
    {
     "data": {
      "text/html": [
       "61"
      ],
      "text/latex": [
       "61"
      ],
      "text/markdown": [
       "61"
      ],
      "text/plain": [
       "[1] 61"
      ]
     },
     "metadata": {},
     "output_type": "display_data"
    }
   ],
   "source": [
    "length(ncountries)"
   ]
  },
  {
   "cell_type": "code",
   "execution_count": 11,
   "metadata": {},
   "outputs": [
    {
     "data": {
      "text/html": [
       "<table>\n",
       "<caption>A data.frame: 6 × 7</caption>\n",
       "<thead>\n",
       "\t<tr><th></th><th scope=col>geonameid</th><th scope=col>cowcode</th><th scope=col>year</th><th scope=col>nrprotests</th><th scope=col>nrprotests_l</th><th scope=col>lspop2008_5k_centered</th><th scope=col>nightlights_5k_pc_l_centered</th></tr>\n",
       "\t<tr><th></th><th scope=col>&lt;int&gt;</th><th scope=col>&lt;int&gt;</th><th scope=col>&lt;int&gt;</th><th scope=col>&lt;int&gt;</th><th scope=col>&lt;int&gt;</th><th scope=col>&lt;dbl&gt;</th><th scope=col>&lt;dbl&gt;</th></tr>\n",
       "</thead>\n",
       "<tbody>\n",
       "\t<tr><th scope=row>1</th><td>32909</td><td>630</td><td>2004</td><td>0</td><td>NA</td><td>-0.5675273</td><td>0.8041611</td></tr>\n",
       "\t<tr><th scope=row>2</th><td>32909</td><td>630</td><td>2005</td><td>0</td><td> 0</td><td>-0.5675273</td><td>0.8392026</td></tr>\n",
       "\t<tr><th scope=row>3</th><td>32909</td><td>630</td><td>2006</td><td>0</td><td> 0</td><td>-0.5675273</td><td>0.8539909</td></tr>\n",
       "\t<tr><th scope=row>4</th><td>32909</td><td>630</td><td>2007</td><td>0</td><td> 0</td><td>-0.5675273</td><td>0.8339887</td></tr>\n",
       "\t<tr><th scope=row>5</th><td>32909</td><td>630</td><td>2008</td><td>0</td><td> 0</td><td>-0.5675273</td><td>0.8273262</td></tr>\n",
       "\t<tr><th scope=row>6</th><td>32909</td><td>630</td><td>2009</td><td>0</td><td> 0</td><td>-0.5675273</td><td>0.8674713</td></tr>\n",
       "</tbody>\n",
       "</table>\n"
      ],
      "text/latex": [
       "A data.frame: 6 × 7\n",
       "\\begin{tabular}{r|lllllll}\n",
       "  & geonameid & cowcode & year & nrprotests & nrprotests\\_l & lspop2008\\_5k\\_centered & nightlights\\_5k\\_pc\\_l\\_centered\\\\\n",
       "  & <int> & <int> & <int> & <int> & <int> & <dbl> & <dbl>\\\\\n",
       "\\hline\n",
       "\t1 & 32909 & 630 & 2004 & 0 & NA & -0.5675273 & 0.8041611\\\\\n",
       "\t2 & 32909 & 630 & 2005 & 0 &  0 & -0.5675273 & 0.8392026\\\\\n",
       "\t3 & 32909 & 630 & 2006 & 0 &  0 & -0.5675273 & 0.8539909\\\\\n",
       "\t4 & 32909 & 630 & 2007 & 0 &  0 & -0.5675273 & 0.8339887\\\\\n",
       "\t5 & 32909 & 630 & 2008 & 0 &  0 & -0.5675273 & 0.8273262\\\\\n",
       "\t6 & 32909 & 630 & 2009 & 0 &  0 & -0.5675273 & 0.8674713\\\\\n",
       "\\end{tabular}\n"
      ],
      "text/markdown": [
       "\n",
       "A data.frame: 6 × 7\n",
       "\n",
       "| <!--/--> | geonameid &lt;int&gt; | cowcode &lt;int&gt; | year &lt;int&gt; | nrprotests &lt;int&gt; | nrprotests_l &lt;int&gt; | lspop2008_5k_centered &lt;dbl&gt; | nightlights_5k_pc_l_centered &lt;dbl&gt; |\n",
       "|---|---|---|---|---|---|---|---|\n",
       "| 1 | 32909 | 630 | 2004 | 0 | NA | -0.5675273 | 0.8041611 |\n",
       "| 2 | 32909 | 630 | 2005 | 0 |  0 | -0.5675273 | 0.8392026 |\n",
       "| 3 | 32909 | 630 | 2006 | 0 |  0 | -0.5675273 | 0.8539909 |\n",
       "| 4 | 32909 | 630 | 2007 | 0 |  0 | -0.5675273 | 0.8339887 |\n",
       "| 5 | 32909 | 630 | 2008 | 0 |  0 | -0.5675273 | 0.8273262 |\n",
       "| 6 | 32909 | 630 | 2009 | 0 |  0 | -0.5675273 | 0.8674713 |\n",
       "\n"
      ],
      "text/plain": [
       "  geonameid cowcode year nrprotests nrprotests_l lspop2008_5k_centered\n",
       "1 32909     630     2004 0          NA           -0.5675273           \n",
       "2 32909     630     2005 0           0           -0.5675273           \n",
       "3 32909     630     2006 0           0           -0.5675273           \n",
       "4 32909     630     2007 0           0           -0.5675273           \n",
       "5 32909     630     2008 0           0           -0.5675273           \n",
       "6 32909     630     2009 0           0           -0.5675273           \n",
       "  nightlights_5k_pc_l_centered\n",
       "1 0.8041611                   \n",
       "2 0.8392026                   \n",
       "3 0.8539909                   \n",
       "4 0.8339887                   \n",
       "5 0.8273262                   \n",
       "6 0.8674713                   "
      ]
     },
     "metadata": {},
     "output_type": "display_data"
    }
   ],
   "source": [
    "head(cityyear.data)"
   ]
  },
  {
   "cell_type": "code",
   "execution_count": 12,
   "metadata": {},
   "outputs": [
    {
     "data": {
      "text/plain": [
       "\n",
       "Call:\n",
       "lm(formula = nrprotests ~ nightlights_5k_pc_l_centered, data = cityyear.data)\n",
       "\n",
       "Residuals:\n",
       "    Min      1Q  Median      3Q     Max \n",
       " -1.639  -0.661  -0.479  -0.314 162.092 \n",
       "\n",
       "Coefficients:\n",
       "                             Estimate Std. Error t value Pr(>|t|)    \n",
       "(Intercept)                   0.54875    0.03404  16.121  < 2e-16 ***\n",
       "nightlights_5k_pc_l_centered -0.44532    0.05703  -7.809 6.18e-15 ***\n",
       "---\n",
       "Signif. codes:  0 ‘***’ 0.001 ‘**’ 0.01 ‘*’ 0.05 ‘.’ 0.1 ‘ ’ 1\n",
       "\n",
       "Residual standard error: 3.995 on 13773 degrees of freedom\n",
       "Multiple R-squared:  0.004408,\tAdjusted R-squared:  0.004336 \n",
       "F-statistic: 60.98 on 1 and 13773 DF,  p-value: 6.181e-15\n"
      ]
     },
     "metadata": {},
     "output_type": "display_data"
    }
   ],
   "source": [
    "# Complete pooling: no group modelling\n",
    "m1 <- lm(nrprotests ~ nightlights_5k_pc_l_centered, data=cityyear.data)\n",
    "summary(m1)"
   ]
  },
  {
   "cell_type": "code",
   "execution_count": 13,
   "metadata": {},
   "outputs": [],
   "source": [
    "# No pooling: fixed effects\n",
    "m2 <- lm(nrprotests ~ nightlights_5k_pc_l_centered + factor(geonameid) - 1, data=cityyear.data)"
   ]
  },
  {
   "cell_type": "code",
   "execution_count": 19,
   "metadata": {},
   "outputs": [
    {
     "data": {
      "text/plain": [
       "\n",
       "Call:\n",
       "lm(formula = nrprotests ~ nightlights_5k_pc_l_centered + factor(geonameid) - \n",
       "    1, data = cityyear.data)\n",
       "\n",
       "Residuals:\n",
       "    Min      1Q  Median      3Q     Max \n",
       "-33.332  -0.071  -0.003   0.025 136.886 \n",
       "\n",
       "Coefficients:\n",
       "                               Estimate Std. Error t value Pr(>|t|)    \n",
       "nightlights_5k_pc_l_centered  5.258e-01  1.982e-01   2.653 0.007988 ** \n",
       "factor(geonameid)32909       -4.502e-01  9.328e-01  -0.483 0.629386    \n",
       "factor(geonameid)70225        9.761e+00  9.250e-01  10.553  < 2e-16 ***\n",
       "factor(geonameid)71137        2.654e+01  9.312e-01  28.497  < 2e-16 ***\n",
       "factor(geonameid)74477        2.403e+00  9.198e-01   2.613 0.008999 ** \n",
       "factor(geonameid)76482        4.187e-01  9.307e-01   0.450 0.652806    \n",
       "factor(geonameid)77940       -1.308e-01  9.186e-01  -0.142 0.886784    \n",
       "factor(geonameid)78137       -1.132e-01  9.182e-01  -0.123 0.901905    \n",
       "factor(geonameid)78931       -1.417e-01  9.188e-01  -0.154 0.877435    \n",
       "factor(geonameid)79415        2.328e+00  9.172e-01   2.538 0.011173 *  \n",
       "factor(geonameid)81302       -1.440e-01  9.223e-01  -0.156 0.875897    \n",
       "factor(geonameid)88319        4.129e+00  9.205e-01   4.486 7.32e-06 ***\n",
       "factor(geonameid)100425      -3.352e-01  9.259e-01  -0.362 0.717353    \n",
       "factor(geonameid)101628      -8.104e-02  9.178e-01  -0.088 0.929639    \n",
       "factor(geonameid)101760       1.296e-01  9.185e-01   0.141 0.887758    \n",
       " [ reached getOption(\"max.print\") -- omitted 1550 rows ]\n",
       "---\n",
       "Signif. codes:  0 ‘***’ 0.001 ‘**’ 0.01 ‘*’ 0.05 ‘.’ 0.1 ‘ ’ 1\n",
       "\n",
       "Residual standard error: 2.752 on 12210 degrees of freedom\n",
       "Multiple R-squared:  0.589,\tAdjusted R-squared:  0.5363 \n",
       "F-statistic: 11.18 on 1565 and 12210 DF,  p-value: < 2.2e-16\n"
      ]
     },
     "metadata": {},
     "output_type": "display_data"
    }
   ],
   "source": [
    "options(max.print=75) # To reduce the output in the model summaries below\n",
    "summary(m2)"
   ]
  },
  {
   "cell_type": "code",
   "execution_count": 22,
   "metadata": {},
   "outputs": [
    {
     "data": {
      "text/plain": [
       "Linear mixed model fit by REML ['lmerMod']\n",
       "Formula: nrprotests ~ nightlights_5k_pc_l_centered + (1 | geonameid)\n",
       "   Data: cityyear.data\n",
       "\n",
       "REML criterion at convergence: 71050.3\n",
       "\n",
       "Scaled residuals: \n",
       "    Min      1Q  Median      3Q     Max \n",
       "-10.340  -0.029  -0.019  -0.012  50.291 \n",
       "\n",
       "Random effects:\n",
       " Groups    Name        Variance Std.Dev.\n",
       " geonameid (Intercept) 10.23    3.199   \n",
       " Residual               7.62    2.760   \n",
       "Number of obs: 13775, groups:  geonameid, 1564\n",
       "\n",
       "Fixed effects:\n",
       "                             Estimate Std. Error t value\n",
       "(Intercept)                   0.61519    0.08429   7.298\n",
       "nightlights_5k_pc_l_centered -0.22638    0.11669  -1.940\n",
       "\n",
       "Correlation of Fixed Effects:\n",
       "            (Intr)\n",
       "nghtlg_5___ 0.010 "
      ]
     },
     "metadata": {},
     "output_type": "display_data"
    }
   ],
   "source": [
    "# Partial pooling: varying-intercept\n",
    "m3 <- lmer(nrprotests ~ nightlights_5k_pc_l_centered + (1 | geonameid), data=cityyear.data)\n",
    "summary(m3) # Note that std.dev of geonameid (Intercept) is large compared to the residual standard error\n",
    "# Std.dev is larger between \"groups\" than between \"individuals\""
   ]
  },
  {
   "cell_type": "code",
   "execution_count": 23,
   "metadata": {},
   "outputs": [
    {
     "data": {
      "text/plain": [
       "$geonameid\n",
       "        (Intercept) nightlights_5k_pc_l_centered\n",
       "32909   0.226004834                   -0.2263751\n",
       "70225   8.643732360                   -0.2263751\n",
       "71137  23.993051357                   -0.2263751\n",
       "74477   2.027575636                   -0.2263751\n",
       "76482  -0.119471254                   -0.2263751\n",
       "77940   0.099012341                   -0.2263751\n",
       "78137   0.092012591                   -0.2263751\n",
       "78931   0.103353340                   -0.2263751\n",
       "79415   2.204303850                   -0.2263751\n",
       "81302   0.251080473                   -0.2263751\n",
       "88319   4.130299648                   -0.2263751\n",
       "100425  0.180283173                   -0.2263751\n",
       "101628  0.079232897                   -0.2263751\n",
       "101760 -0.004537224                   -0.2263751\n",
       "104515  0.129910578                   -0.2263751\n",
       "105072  0.117552966                   -0.2263751\n",
       "105343 -0.014031928                   -0.2263751\n",
       "106281  0.143998198                   -0.2263751\n",
       "107304  0.155435994                   -0.2263751\n",
       "107968  0.032845943                   -0.2263751\n",
       "108410  1.435698680                   -0.2263751\n",
       "109101  0.091883296                   -0.2263751\n",
       "109223 -0.058293918                   -0.2263751\n",
       "109323  0.116798179                   -0.2263751\n",
       "109571  0.345489609                   -0.2263751\n",
       "110336 -0.016262127                   -0.2263751\n",
       "111453  1.462192678                   -0.2263751\n",
       "111822  0.378748608                   -0.2263751\n",
       "112931 27.738974135                   -0.2263751\n",
       "113514 -0.054530733                   -0.2263751\n",
       "113646  3.031766342                   -0.2263751\n",
       "115019  0.728169837                   -0.2263751\n",
       "116996  0.392816800                   -0.2263751\n",
       "117574  0.974380468                   -0.2263751\n",
       "118743  1.623350749                   -0.2263751\n",
       "119208  0.918991652                   -0.2263751\n",
       "119505  1.624764714                   -0.2263751\n",
       " [ reached 'max' / getOption(\"max.print\") -- omitted 1527 rows ]\n",
       "\n",
       "attr(,\"class\")\n",
       "[1] \"coef.mer\""
      ]
     },
     "metadata": {},
     "output_type": "display_data"
    }
   ],
   "source": [
    "coef(m3) # Varying-intercepts and beta coefficient"
   ]
  },
  {
   "cell_type": "code",
   "execution_count": 24,
   "metadata": {},
   "outputs": [
    {
     "data": {
      "text/plain": [
       "$geonameid\n",
       "       (Intercept)\n",
       "32909  -0.38918325\n",
       "70225   8.02854428\n",
       "71137  23.37786327\n",
       "74477   1.41238755\n",
       "76482  -0.73465934\n",
       "77940  -0.51617574\n",
       "78137  -0.52317549\n",
       "78931  -0.51183474\n",
       "79415   1.58911577\n",
       "81302  -0.36410761\n",
       "88319   3.51511157\n",
       "100425 -0.43490491\n",
       "101628 -0.53595518\n",
       "101760 -0.61972531\n",
       "104515 -0.48527750\n",
       "105072 -0.49763512\n",
       "105343 -0.62922001\n",
       "106281 -0.47118988\n",
       "107304 -0.45975209\n",
       "107968 -0.58234214\n",
       "108410  0.82051060\n",
       "109101 -0.52330479\n",
       "109223 -0.67348200\n",
       "109323 -0.49838990\n",
       "109571 -0.26969847\n",
       "110336 -0.63145021\n",
       "111453  0.84700460\n",
       "111822 -0.23643947\n",
       "112931 27.12378605\n",
       "113514 -0.66971882\n",
       "113646  2.41657826\n",
       "115019  0.11298176\n",
       "116996 -0.22237128\n",
       "117574  0.35919239\n",
       "118743  1.00816267\n",
       "119208  0.30380357\n",
       "119505  1.00957663\n",
       "121801  1.20278639\n",
       "124665  0.69726053\n",
       "127349 -0.39420011\n",
       "128226 -0.03898873\n",
       "128234 -0.32899048\n",
       "128747 -0.59802479\n",
       "132144 -0.17428164\n",
       "132892 -0.43844630\n",
       "140044 -0.36845348\n",
       "140463 -0.49323439\n",
       "141681 -0.10652938\n",
       "143083  0.83277003\n",
       "143127 -0.51066872\n",
       "144448  0.77287929\n",
       "148730 -0.46307441\n",
       "152224 -0.71671900\n",
       "154380 -0.76510719\n",
       "155321 -0.81335795\n",
       "160263  0.83580700\n",
       "161325 -0.14225703\n",
       "161616 -0.33849740\n",
       "162183 -0.20406748\n",
       "168713 -0.61838537\n",
       "169174 -0.72185220\n",
       "169372 -0.28299683\n",
       "169577  4.08171959\n",
       "169897 -0.26354600\n",
       "170017  2.77782485\n",
       "170063  4.55366481\n",
       "170592  1.17538669\n",
       "170654  7.74676374\n",
       "170794  3.01652746\n",
       "170892 -0.11216086\n",
       "171998 -0.71952522\n",
       "173434 -0.53481996\n",
       "173576  0.99663429\n",
       "202061 -0.58133293\n",
       "202326 -0.74244169\n",
       " [ reached 'max' / getOption(\"max.print\") -- omitted 1489 rows ]\n",
       "\n",
       "with conditional variances for “geonameid” "
      ]
     },
     "metadata": {},
     "output_type": "display_data"
    }
   ],
   "source": [
    "ranef(m3) # Change in intercepts for each group"
   ]
  },
  {
   "cell_type": "code",
   "execution_count": 26,
   "metadata": {},
   "outputs": [
    {
     "data": {
      "text/plain": [
       "Linear mixed model fit by REML ['lmerMod']\n",
       "Formula: nrprotests ~ nightlights_5k_pc_l_centered + lspop2008_5k_centered +  \n",
       "    nrprotests_l + (1 | geonameid)\n",
       "   Data: cityyear.data\n",
       "\n",
       "REML criterion at convergence: 62633\n",
       "\n",
       "Scaled residuals: \n",
       "    Min      1Q  Median      3Q     Max \n",
       "-11.813  -0.062  -0.032  -0.014  50.454 \n",
       "\n",
       "Random effects:\n",
       " Groups    Name        Variance Std.Dev.\n",
       " geonameid (Intercept) 3.186    1.785   \n",
       " Residual              8.273    2.876   \n",
       "Number of obs: 12211, groups:  geonameid, 1564\n",
       "\n",
       "Fixed effects:\n",
       "                             Estimate Std. Error t value\n",
       "(Intercept)                  0.403109   0.052430   7.689\n",
       "nightlights_5k_pc_l_centered 0.010564   0.096429   0.110\n",
       "lspop2008_5k_centered        0.502319   0.087543   5.738\n",
       "nrprotests_l                 0.404511   0.008529  47.425\n",
       "\n",
       "Correlation of Fixed Effects:\n",
       "            (Intr) n_5___ l2008_\n",
       "nghtlg_5___ -0.011              \n",
       "lspp2008_5_  0.002  0.506       \n",
       "nrprotsts_l -0.092  0.007 -0.066"
      ]
     },
     "metadata": {},
     "output_type": "display_data"
    }
   ],
   "source": [
    "# Partial pooling: varying-intercept\n",
    "# We can try to reduce between unit heterogeneity by including other variables\n",
    "m3.2 <- lmer(nrprotests ~ nightlights_5k_pc_l_centered + lspop2008_5k_centered + nrprotests_l + (1 | geonameid), data=cityyear.data)\n",
    "summary(m3.2) # Note that std.dev of geonameid (Intercept) is large compared to the residual standard error\n",
    "# Std.dev is larger between \"groups\" than between \"individuals\""
   ]
  },
  {
   "cell_type": "code",
   "execution_count": 27,
   "metadata": {},
   "outputs": [
    {
     "data": {
      "text/plain": [
       "$geonameid\n",
       "       (Intercept) nightlights_5k_pc_l_centered lspop2008_5k_centered\n",
       "32909   0.30712362                   0.01056388              0.502319\n",
       "70225   5.05178175                   0.01056388              0.502319\n",
       "71137  14.50092254                   0.01056388              0.502319\n",
       "74477   1.38902385                   0.01056388              0.502319\n",
       "76482  -0.04537984                   0.01056388              0.502319\n",
       "77940   0.21934957                   0.01056388              0.502319\n",
       "78137   0.23219070                   0.01056388              0.502319\n",
       "78931   0.22956945                   0.01056388              0.502319\n",
       "79415   1.29730332                   0.01056388              0.502319\n",
       "81302   0.36951282                   0.01056388              0.502319\n",
       "88319   3.13534235                   0.01056388              0.502319\n",
       "100425  0.31064221                   0.01056388              0.502319\n",
       "101628  0.05848927                   0.01056388              0.502319\n",
       "101760 -0.09592010                   0.01056388              0.502319\n",
       "104515 -0.08498229                   0.01056388              0.502319\n",
       "105072  0.15700752                   0.01056388              0.502319\n",
       "105343 -0.35749730                   0.01056388              0.502319\n",
       "106281  0.18162365                   0.01056388              0.502319\n",
       "       nrprotests_l\n",
       "32909     0.4045109\n",
       "70225     0.4045109\n",
       "71137     0.4045109\n",
       "74477     0.4045109\n",
       "76482     0.4045109\n",
       "77940     0.4045109\n",
       "78137     0.4045109\n",
       "78931     0.4045109\n",
       "79415     0.4045109\n",
       "81302     0.4045109\n",
       "88319     0.4045109\n",
       "100425    0.4045109\n",
       "101628    0.4045109\n",
       "101760    0.4045109\n",
       "104515    0.4045109\n",
       "105072    0.4045109\n",
       "105343    0.4045109\n",
       "106281    0.4045109\n",
       " [ reached 'max' / getOption(\"max.print\") -- omitted 1546 rows ]\n",
       "\n",
       "attr(,\"class\")\n",
       "[1] \"coef.mer\""
      ]
     },
     "metadata": {},
     "output_type": "display_data"
    }
   ],
   "source": [
    "coef(m3.2) # Varying-intercepts and beta coefficients"
   ]
  },
  {
   "cell_type": "code",
   "execution_count": 28,
   "metadata": {},
   "outputs": [
    {
     "data": {
      "text/plain": [
       "$geonameid\n",
       "        (Intercept)\n",
       "32909  -0.095985229\n",
       "70225   4.648672902\n",
       "71137  14.097813695\n",
       "74477   0.985915004\n",
       "76482  -0.448488685\n",
       "77940  -0.183759280\n",
       "78137  -0.170918142\n",
       "78931  -0.173539392\n",
       "79415   0.894194470\n",
       "81302  -0.033596024\n",
       "88319   2.732233499\n",
       "100425 -0.092466639\n",
       "101628 -0.344619579\n",
       "101760 -0.499028948\n",
       "104515 -0.488091138\n",
       "105072 -0.246101323\n",
       "105343 -0.760606148\n",
       "106281 -0.221485195\n",
       "107304 -0.192858010\n",
       "107968 -0.409045189\n",
       "108410  0.232748536\n",
       "109101 -0.312079216\n",
       "109223 -0.603993961\n",
       "109323 -0.233618922\n",
       "109571 -0.105756097\n",
       "110336 -0.531124934\n",
       "111453  0.525350552\n",
       "111822 -0.052630059\n",
       "112931 13.270274802\n",
       "113514 -0.613537331\n",
       "113646  0.815783126\n",
       "115019 -0.093760875\n",
       "116996  0.025700449\n",
       "117574  0.236066674\n",
       "118743  0.526649072\n",
       "119208 -0.033649491\n",
       "119505  0.539197168\n",
       "121801  0.621589964\n",
       "124665  0.232275817\n",
       "127349 -0.238822096\n",
       "128226 -0.052482639\n",
       "128234 -0.236413708\n",
       "128747 -0.478778300\n",
       "132144 -0.027056572\n",
       "132892 -0.086760718\n",
       "140044 -0.063406868\n",
       "140463 -0.172189777\n",
       "141681  0.002045624\n",
       "143083  0.360257364\n",
       "143127 -0.258291664\n",
       "144448  0.395130904\n",
       "148730 -0.084423021\n",
       "152224 -0.144542412\n",
       "154380 -0.069345006\n",
       "155321 -0.873142729\n",
       "160263 -0.392290317\n",
       "161325  0.113417975\n",
       "161616  0.231590011\n",
       "162183 -0.167621294\n",
       "168713 -0.492498693\n",
       "169174 -0.728307108\n",
       "169372 -0.247415564\n",
       "169577  2.397013595\n",
       "169897 -0.245796772\n",
       "170017  1.980597351\n",
       "170063  3.349777565\n",
       "170592  0.886416729\n",
       "170654  4.428961046\n",
       "170794  2.177932487\n",
       "170892  0.077834554\n",
       "171998 -0.727078126\n",
       "173434 -0.329233337\n",
       "173576  0.607032848\n",
       "202061 -0.385381366\n",
       "202326  0.296942465\n",
       " [ reached 'max' / getOption(\"max.print\") -- omitted 1489 rows ]\n",
       "\n",
       "with conditional variances for “geonameid” "
      ]
     },
     "metadata": {},
     "output_type": "display_data"
    }
   ],
   "source": [
    "ranef(m3.2) # Change in intercepts for each group"
   ]
  },
  {
   "cell_type": "code",
   "execution_count": 29,
   "metadata": {},
   "outputs": [
    {
     "data": {
      "text/plain": [
       "Linear mixed model fit by REML ['lmerMod']\n",
       "Formula: nrprotests ~ nightlights_5k_pc_l_centered + (1 | geonameid) +  \n",
       "    (1 | cowcode)\n",
       "   Data: cityyear.data\n",
       "\n",
       "REML criterion at convergence: 70943.4\n",
       "\n",
       "Scaled residuals: \n",
       "    Min      1Q  Median      3Q     Max \n",
       "-10.112  -0.037  -0.012   0.002  50.268 \n",
       "\n",
       "Random effects:\n",
       " Groups    Name        Variance Std.Dev.\n",
       " geonameid (Intercept) 8.884    2.981   \n",
       " cowcode   (Intercept) 4.282    2.069   \n",
       " Residual              7.622    2.761   \n",
       "Number of obs: 13775, groups:  geonameid, 1564; cowcode, 61\n",
       "\n",
       "Fixed effects:\n",
       "                             Estimate Std. Error t value\n",
       "(Intercept)                    1.4250     0.3075   4.634\n",
       "nightlights_5k_pc_l_centered  -0.3471     0.1300  -2.670\n",
       "\n",
       "Correlation of Fixed Effects:\n",
       "            (Intr)\n",
       "nghtlg_5___ 0.060 "
      ]
     },
     "metadata": {},
     "output_type": "display_data"
    }
   ],
   "source": [
    "# Partial pooling: varying-intercept by multiple groups\n",
    "m4 <- lmer(nrprotests ~ nightlights_5k_pc_l_centered + (1 | geonameid) + (1 | cowcode), data=cityyear.data)\n",
    "summary(m4)"
   ]
  },
  {
   "cell_type": "code",
   "execution_count": 30,
   "metadata": {},
   "outputs": [
    {
     "data": {
      "text/plain": [
       "$geonameid\n",
       "       (Intercept) nightlights_5k_pc_l_centered\n",
       "32909   0.11078622                   -0.3470979\n",
       "70225   6.05969211                   -0.3470979\n",
       "71137  21.20966160                   -0.3470979\n",
       "74477  -0.45192043                   -0.3470979\n",
       "76482  -2.62419773                   -0.3470979\n",
       "77940  -2.29304772                   -0.3470979\n",
       "78137  -2.30365706                   -0.3470979\n",
       "78931  -2.28646818                   -0.3470979\n",
       "79415  -0.23815533                   -0.3470979\n",
       "81302  -0.04959358                   -0.3470979\n",
       "88319   3.77434085                   -0.3470979\n",
       "100425  1.34024216                   -0.3470979\n",
       "101628  1.18708284                   -0.3470979\n",
       "101760  1.06011460                   -0.3470979\n",
       "104515  1.15569902                   -0.3470979\n",
       "105072  1.24516359                   -0.3470979\n",
       "105343  0.99162638                   -0.3470979\n",
       "106281  1.28524595                   -0.3470979\n",
       "107304  1.30258193                   -0.3470979\n",
       "107968  1.11677531                   -0.3470979\n",
       "108410  2.43158325                   -0.3470979\n",
       "109101  1.20625672                   -0.3470979\n",
       "109223  0.97863695                   -0.3470979\n",
       "109323  1.24401958                   -0.3470979\n",
       "109571  1.48244665                   -0.3470979\n",
       "110336  1.04234347                   -0.3470979\n",
       "111453  1.28117911                   -0.3470979\n",
       "111822  0.23410137                   -0.3470979\n",
       "112931 27.09701408                   -0.3470979\n",
       "113514 -0.31441438                   -0.3470979\n",
       "113646  2.74048701                   -0.3470979\n",
       "115019  0.49322349                   -0.3470979\n",
       "116996  0.25542417                   -0.3470979\n",
       "117574  0.81230132                   -0.3470979\n",
       "118743  1.41724760                   -0.3470979\n",
       "119208  0.67425256                   -0.3470979\n",
       "119505  1.41939071                   -0.3470979\n",
       " [ reached 'max' / getOption(\"max.print\") -- omitted 1527 rows ]\n",
       "\n",
       "$cowcode\n",
       "    (Intercept) nightlights_5k_pc_l_centered\n",
       "40    0.5103394                   -0.3470979\n",
       "101   0.8592843                   -0.3470979\n",
       "365   1.0592638                   -0.3470979\n",
       "370   4.0063116                   -0.3470979\n",
       "371   2.1134130                   -0.3470979\n",
       "373   1.7034133                   -0.3470979\n",
       "420   0.3769248                   -0.3470979\n",
       "435   1.1241573                   -0.3470979\n",
       "437   0.9242620                   -0.3470979\n",
       "438   1.5182420                   -0.3470979\n",
       "439   1.0603880                   -0.3470979\n",
       "461   1.1283506                   -0.3470979\n",
       "471   0.1174015                   -0.3470979\n",
       "481   0.7867107                   -0.3470979\n",
       "482   0.4151301                   -0.3470979\n",
       "483   0.1279381                   -0.3470979\n",
       "484   0.3802635                   -0.3470979\n",
       "490   0.5132695                   -0.3470979\n",
       "500   1.4792395                   -0.3470979\n",
       "510   0.4965027                   -0.3470979\n",
       "517   0.1755932                   -0.3470979\n",
       "530   0.8578624                   -0.3470979\n",
       "531   0.2640767                   -0.3470979\n",
       "540   0.6713404                   -0.3470979\n",
       "541   0.5829869                   -0.3470979\n",
       "551   1.0520598                   -0.3470979\n",
       "552   2.0070742                   -0.3470979\n",
       "565   0.8546948                   -0.3470979\n",
       "571   0.7446949                   -0.3470979\n",
       "572   1.8341647                   -0.3470979\n",
       "580   1.4563385                   -0.3470979\n",
       "600   1.0077623                   -0.3470979\n",
       "615   0.7346010                   -0.3470979\n",
       "616   2.2499821                   -0.3470979\n",
       "620   1.8946677                   -0.3470979\n",
       "625   1.2780366                   -0.3470979\n",
       "630   1.7366247                   -0.3470979\n",
       " [ reached 'max' / getOption(\"max.print\") -- omitted 24 rows ]\n",
       "\n",
       "attr(,\"class\")\n",
       "[1] \"coef.mer\""
      ]
     },
     "metadata": {},
     "output_type": "display_data"
    }
   ],
   "source": [
    "coef(m4) # Varying-intercepts and beta coefficients"
   ]
  },
  {
   "cell_type": "code",
   "execution_count": 31,
   "metadata": {},
   "outputs": [
    {
     "data": {
      "text/plain": [
       "$geonameid\n",
       "        (Intercept)\n",
       "32909  -1.314196097\n",
       "70225   4.634709795\n",
       "71137  19.784679280\n",
       "74477  -1.876902745\n",
       "76482  -4.049180045\n",
       "77940  -3.718030033\n",
       "78137  -3.728639376\n",
       "78931  -3.711450492\n",
       "79415  -1.663137644\n",
       "81302  -1.474575900\n",
       "88319   2.349358533\n",
       "100425 -0.084740153\n",
       "101628 -0.237899478\n",
       "101760 -0.364867714\n",
       "104515 -0.269283300\n",
       "105072 -0.179818728\n",
       "105343 -0.433355938\n",
       "106281 -0.139736364\n",
       "107304 -0.122400388\n",
       "107968 -0.308207001\n",
       "108410  1.006600930\n",
       "109101 -0.218725591\n",
       "109223 -0.446345364\n",
       "109323 -0.180962738\n",
       "109571  0.057464338\n",
       "110336 -0.382638849\n",
       "111453 -0.143803202\n",
       "111822 -1.190880945\n",
       "112931 25.672031763\n",
       "113514 -1.739396700\n",
       "113646  1.315504694\n",
       "115019 -0.931758827\n",
       "116996 -1.169558146\n",
       "117574 -0.612680999\n",
       "118743 -0.007734716\n",
       "119208 -0.750729760\n",
       "119505 -0.005591604\n",
       "121801  0.179056802\n",
       "124665 -0.370766459\n",
       "127349 -1.375897365\n",
       "128226 -1.053901931\n",
       "128234 -1.331158138\n",
       "128747 -1.630731892\n",
       "132144 -1.150767243\n",
       "132892 -1.388862855\n",
       "140044 -1.336873866\n",
       "140463 -1.471903751\n",
       "141681 -1.102174224\n",
       "143083 -0.165378177\n",
       "143127 -1.498328529\n",
       "144448 -0.256153041\n",
       "148730 -0.402187853\n",
       "152224 -0.678435800\n",
       "154380 -0.751776554\n",
       "155321 -0.824908986\n",
       "160263  0.809130733\n",
       "161325 -0.078225173\n",
       "161616 -0.285151361\n",
       "162183 -0.243691395\n",
       "168713 -1.898925343\n",
       "169174 -2.055747376\n",
       "169372 -1.552877520\n",
       "169577  2.736425982\n",
       "169897 -1.523396394\n",
       "170017  1.517508813\n",
       "170063  3.127157244\n",
       "170592 -0.045708307\n",
       "170654  6.289838131\n",
       "170794  1.771109585\n",
       "170892 -1.293945795\n",
       "171998 -2.052220424\n",
       "173434 -1.772267384\n",
       "173576 -0.262541418\n",
       "202061 -0.288447531\n",
       "202326 -0.424441274\n",
       " [ reached 'max' / getOption(\"max.print\") -- omitted 1489 rows ]\n",
       "\n",
       "$cowcode\n",
       "     (Intercept)\n",
       "40  -0.914642912\n",
       "101 -0.565698055\n",
       "365 -0.365718486\n",
       "370  2.581329298\n",
       "371  0.688430724\n",
       "373  0.278430965\n",
       "420 -1.048057503\n",
       "435 -0.300824993\n",
       "437 -0.500720321\n",
       "438  0.093259641\n",
       "439 -0.364594273\n",
       "461 -0.296631676\n",
       "471 -1.307580826\n",
       "481 -0.638271660\n",
       "482 -1.009852237\n",
       "483 -1.297044169\n",
       "484 -1.044718850\n",
       "490 -0.911712792\n",
       "500  0.054257191\n",
       "510 -0.928479589\n",
       "517 -1.249389133\n",
       "530 -0.567119907\n",
       "531 -1.160905597\n",
       "540 -0.753641921\n",
       "541 -0.841995421\n",
       "551 -0.372922469\n",
       "552  0.582091858\n",
       "565 -0.570287521\n",
       "571 -0.680287403\n",
       "572  0.409182359\n",
       "580  0.031356214\n",
       "600 -0.417220029\n",
       "615 -0.690381285\n",
       "616  0.824999767\n",
       "620  0.469685358\n",
       "625 -0.146945714\n",
       "630  0.311642388\n",
       "651 -0.001557397\n",
       "652  0.571599072\n",
       "663  0.072740077\n",
       "670 -1.110913485\n",
       "679  2.733789220\n",
       "690 -0.776459645\n",
       "696 -0.776578876\n",
       "698 -0.292683866\n",
       "700  5.264155345\n",
       "701 -0.731347381\n",
       "702 -0.835964496\n",
       "703  4.528315411\n",
       "704 -0.340397538\n",
       "705  0.324472680\n",
       "710 -1.381951203\n",
       "731 -1.596995472\n",
       "770  1.012669271\n",
       "775 -0.122413559\n",
       "790  9.812729791\n",
       "811 -0.711500125\n",
       "812 -0.967021363\n",
       "816 -1.445803299\n",
       "820 -0.555457622\n",
       "830 -0.052446556\n",
       "\n",
       "with conditional variances for “geonameid” “cowcode” "
      ]
     },
     "metadata": {},
     "output_type": "display_data"
    }
   ],
   "source": [
    "ranef(m4) # Change in intercepts for each group"
   ]
  },
  {
   "cell_type": "code",
   "execution_count": 32,
   "metadata": {},
   "outputs": [
    {
     "name": "stderr",
     "output_type": "stream",
     "text": [
      "boundary (singular) fit: see ?isSingular\n",
      "\n"
     ]
    },
    {
     "data": {
      "text/plain": [
       "Linear mixed model fit by REML ['lmerMod']\n",
       "Formula: \n",
       "nrprotests ~ nightlights_5k_pc_l_centered + (1 + nightlights_5k_pc_l_centered |  \n",
       "    geonameid)\n",
       "   Data: cityyear.data\n",
       "\n",
       "REML criterion at convergence: 70478.2\n",
       "\n",
       "Scaled residuals: \n",
       "    Min      1Q  Median      3Q     Max \n",
       "-10.046  -0.063  -0.028  -0.011  49.733 \n",
       "\n",
       "Random effects:\n",
       " Groups    Name                         Variance Std.Dev. Corr \n",
       " geonameid (Intercept)                  7.520    2.742         \n",
       "           nightlights_5k_pc_l_centered 7.208    2.685    -1.00\n",
       " Residual                               7.680    2.771         \n",
       "Number of obs: 13775, groups:  geonameid, 1564\n",
       "\n",
       "Fixed effects:\n",
       "                             Estimate Std. Error t value\n",
       "(Intercept)                   0.51386    0.07733   6.645\n",
       "nightlights_5k_pc_l_centered -0.14233    0.11135  -1.278\n",
       "\n",
       "Correlation of Fixed Effects:\n",
       "            (Intr)\n",
       "nghtlg_5___ -0.740\n",
       "convergence code: 0\n",
       "boundary (singular) fit: see ?isSingular\n"
      ]
     },
     "metadata": {},
     "output_type": "display_data"
    }
   ],
   "source": [
    "# Partial pooling: varying-intercept and varying slope\n",
    "m5 <- lmer(nrprotests ~ nightlights_5k_pc_l_centered + (1 + nightlights_5k_pc_l_centered | geonameid), data=cityyear.data)\n",
    "summary(m5) "
   ]
  },
  {
   "cell_type": "code",
   "execution_count": 33,
   "metadata": {},
   "outputs": [
    {
     "data": {
      "text/plain": [
       "$geonameid\n",
       "        (Intercept) nightlights_5k_pc_l_centered\n",
       "32909   0.061661769                   0.30040184\n",
       "70225   5.283407325                  -4.81203219\n",
       "71137  14.229668906                 -13.57101365\n",
       "74477   1.346729779                  -0.95776467\n",
       "76482   0.174050117                   0.19036622\n",
       "77940  -0.007630516                   0.36824357\n",
       "78137   0.001457121                   0.35934617\n",
       "78931  -0.014756578                   0.37522046\n",
       "79415   1.940293961                  -1.53890324\n",
       "81302   0.064404859                   0.29771618\n",
       "88319   5.452842492                  -4.97792043\n",
       "100425 -0.107627693                   0.46614742\n",
       "101628  0.013460648                   0.34759393\n",
       "101760  0.101983679                   0.26092403\n",
       "104515  0.285949816                   0.08080902\n",
       "105072 -0.041216145                   0.40112612\n",
       "105343  0.232902774                   0.13274558\n",
       "106281 -0.080157379                   0.43925216\n",
       "107304 -0.094753867                   0.45354309\n",
       "107968  0.067529357                   0.29465709\n",
       "108410  1.106616054                  -0.72267747\n",
       "109101 -0.003860675                   0.36455265\n",
       "109223  0.140697391                   0.22302075\n",
       "109323 -0.038564094                   0.39852959\n",
       "109571  0.207213204                   0.15789737\n",
       "110336  0.111482844                   0.25162372\n",
       "111453  1.783314349                  -1.38520983\n",
       "111822  0.200343768                   0.16462300\n",
       "112931 14.667060498                 -13.99924893\n",
       "113514  0.138345667                   0.22532324\n",
       "113646  2.340504053                  -1.93073538\n",
       "115019  0.701156171                  -0.32570544\n",
       "116996  0.185655510                   0.17900378\n",
       "117574  1.159586328                  -0.77453887\n",
       "118743  1.719054298                  -1.32229499\n",
       "119208  0.849577283                  -0.47101952\n",
       "119505  1.773312710                  -1.37541756\n",
       " [ reached 'max' / getOption(\"max.print\") -- omitted 1527 rows ]\n",
       "\n",
       "attr(,\"class\")\n",
       "[1] \"coef.mer\""
      ]
     },
     "metadata": {},
     "output_type": "display_data"
    }
   ],
   "source": [
    "# What does the std.dev of nightlights_5k_pc_l_centered mean?\n",
    "coef(m5) # Varying-intercepts and beta coefficients"
   ]
  },
  {
   "cell_type": "code",
   "execution_count": 34,
   "metadata": {},
   "outputs": [
    {
     "data": {
      "text/plain": [
       "$geonameid\n",
       "       (Intercept) nightlights_5k_pc_l_centered\n",
       "32909   -0.4521975                    0.4427312\n",
       "70225    4.7695481                   -4.6697028\n",
       "71137   13.7158096                  -13.4286842\n",
       "74477    0.8328705                   -0.8154353\n",
       "76482   -0.3398092                    0.3326956\n",
       "77940   -0.5214898                    0.5105730\n",
       "78137   -0.5124022                    0.5016756\n",
       "78931   -0.5286159                    0.5175499\n",
       "79415    1.4264347                   -1.3965738\n",
       "81302   -0.4494544                    0.4400456\n",
       "88319    4.9389832                   -4.8355910\n",
       "100425  -0.6214870                    0.6084768\n",
       "101628  -0.5003986                    0.4899233\n",
       "101760  -0.4118756                    0.4032534\n",
       "104515  -0.2279095                    0.2231384\n",
       "105072  -0.5550754                    0.5434555\n",
       "105343  -0.2809565                    0.2750750\n",
       "106281  -0.5940167                    0.5815816\n",
       "107304  -0.6086131                    0.5958725\n",
       "107968  -0.4463299                    0.4369865\n",
       "108410   0.5927568                   -0.5803481\n",
       "109101  -0.5177199                    0.5068820\n",
       "109223  -0.3731619                    0.3653501\n",
       "109323  -0.5524234                    0.5408590\n",
       "109571  -0.3066461                    0.3002268\n",
       "110336  -0.4023764                    0.3939531\n",
       "111453   1.2694551                   -1.2428804\n",
       "111822  -0.3135155                    0.3069524\n",
       "112931  14.1532012                  -13.8569195\n",
       "113514  -0.3755136                    0.3676526\n",
       "113646   1.8266448                   -1.7884060\n",
       "115019   0.1872969                   -0.1833760\n",
       "116996  -0.3282038                    0.3213332\n",
       "117574   0.6457271                   -0.6322095\n",
       "118743   1.2051950                   -1.1799656\n",
       "119208   0.3357180                   -0.3286901\n",
       "119505   1.2594534                   -1.2330882\n",
       " [ reached 'max' / getOption(\"max.print\") -- omitted 1527 rows ]\n",
       "\n",
       "with conditional variances for “geonameid” "
      ]
     },
     "metadata": {},
     "output_type": "display_data"
    }
   ],
   "source": [
    "ranef(m5) # Change in intercepts for each group"
   ]
  },
  {
   "cell_type": "code",
   "execution_count": 35,
   "metadata": {},
   "outputs": [
    {
     "data": {
      "text/plain": [
       "Linear mixed model fit by REML ['lmerMod']\n",
       "Formula: \n",
       "nrprotests ~ nightlights_5k_pc_l_centered + between_nightlights_5k_pc_l_centered +  \n",
       "    (1 | geonameid)\n",
       "   Data: cityyear.data\n",
       "\n",
       "REML criterion at convergence: 71029.4\n",
       "\n",
       "Scaled residuals: \n",
       "    Min      1Q  Median      3Q     Max \n",
       "-10.341  -0.041  -0.019  -0.003  50.313 \n",
       "\n",
       "Random effects:\n",
       " Groups    Name        Variance Std.Dev.\n",
       " geonameid (Intercept) 10.187   3.192   \n",
       " Residual               7.611   2.759   \n",
       "Number of obs: 13775, groups:  geonameid, 1564\n",
       "\n",
       "Fixed effects:\n",
       "                                     Estimate Std. Error t value\n",
       "(Intercept)                           0.61232    0.08412   7.279\n",
       "nightlights_5k_pc_l_centered          0.52584    0.19871   2.646\n",
       "between_nightlights_5k_pc_l_centered -1.14736    0.24529  -4.678\n",
       "\n",
       "Correlation of Fixed Effects:\n",
       "            (Intr) n_5___\n",
       "nghtlg_5___  0.000       \n",
       "btwn_n_5___  0.007 -0.810"
      ]
     },
     "metadata": {},
     "output_type": "display_data"
    },
    {
     "data": {
      "text/plain": [
       "$geonameid\n",
       "        (Intercept) nightlights_5k_pc_l_centered\n",
       "32909   0.538249475                    0.5258361\n",
       "70225   8.421594677                    0.5258361\n",
       "71137  23.690733830                    0.5258361\n",
       "74477   1.901627845                    0.5258361\n",
       "76482  -0.410037195                    0.5258361\n",
       "77940   0.189671693                    0.5258361\n",
       "78137   0.170458295                    0.5258361\n",
       "78931   0.201587168                    0.5258361\n",
       "79415   2.207638783                    0.5258361\n",
       "81302   0.427993933                    0.5258361\n",
       "88319   4.270717270                    0.5258361\n",
       "100425  0.412749496                    0.5258361\n",
       "101628  0.135379709                    0.5258361\n",
       "101760 -0.094558317                    0.5258361\n",
       "104515 -0.083686469                    0.5258361\n",
       "105072  0.240563284                    0.5258361\n",
       "105343 -0.299704926                    0.5258361\n",
       "106281  0.313151986                    0.5258361\n",
       "107304  0.344547241                    0.5258361\n",
       "107968  0.008053588                    0.5258361\n",
       "108410  1.172427478                    0.5258361\n",
       "109101  0.170103398                    0.5258361\n",
       "109223 -0.242113410                    0.5258361\n",
       "109323  0.238491494                    0.5258361\n",
       "109571  0.508049771                    0.5258361\n",
       "       between_nightlights_5k_pc_l_centered\n",
       "32909                             -1.147364\n",
       "70225                             -1.147364\n",
       "71137                             -1.147364\n",
       "74477                             -1.147364\n",
       "76482                             -1.147364\n",
       "77940                             -1.147364\n",
       "78137                             -1.147364\n",
       "78931                             -1.147364\n",
       "79415                             -1.147364\n",
       "81302                             -1.147364\n",
       "88319                             -1.147364\n",
       "100425                            -1.147364\n",
       "101628                            -1.147364\n",
       "101760                            -1.147364\n",
       "104515                            -1.147364\n",
       "105072                            -1.147364\n",
       "105343                            -1.147364\n",
       "106281                            -1.147364\n",
       "107304                            -1.147364\n",
       "107968                            -1.147364\n",
       "108410                            -1.147364\n",
       "109101                            -1.147364\n",
       "109223                            -1.147364\n",
       "109323                            -1.147364\n",
       "109571                            -1.147364\n",
       " [ reached 'max' / getOption(\"max.print\") -- omitted 1539 rows ]\n",
       "\n",
       "attr(,\"class\")\n",
       "[1] \"coef.mer\""
      ]
     },
     "metadata": {},
     "output_type": "display_data"
    },
    {
     "data": {
      "text/plain": [
       "$geonameid\n",
       "        (Intercept)\n",
       "32909  -0.074074865\n",
       "70225   7.809270337\n",
       "71137  23.078409490\n",
       "74477   1.289303505\n",
       "76482  -1.022361535\n",
       "77940  -0.422652647\n",
       "78137  -0.441866045\n",
       "78931  -0.410737172\n",
       "79415   1.595314443\n",
       "81302  -0.184330407\n",
       "88319   3.658392930\n",
       "100425 -0.199574845\n",
       "101628 -0.476944631\n",
       "101760 -0.706882657\n",
       "104515 -0.696010809\n",
       "105072 -0.371761056\n",
       "105343 -0.912029266\n",
       "106281 -0.299172354\n",
       "107304 -0.267777099\n",
       "107968 -0.604270752\n",
       "108410  0.560103138\n",
       "109101 -0.442220942\n",
       "109223 -0.854437750\n",
       "109323 -0.373832846\n",
       "109571 -0.104274569\n",
       "110336 -0.739065980\n",
       "111453  0.990995479\n",
       "111822 -0.012982967\n",
       "112931 26.734336545\n",
       "113514 -0.844108299\n",
       "113646  2.254826724\n",
       "115019  0.050708145\n",
       "116996  0.025632378\n",
       "117574  0.547439229\n",
       "118743  1.075183520\n",
       "119208  0.216319283\n",
       "119505  1.079064670\n",
       "121801  1.251230392\n",
       "124665  0.579967613\n",
       "127349 -0.266930374\n",
       "128226 -0.008261189\n",
       "128234 -0.267023361\n",
       "128747 -0.647317575\n",
       "132144 -0.021452727\n",
       "132892 -0.209295511\n",
       "140044 -0.196259263\n",
       "140463 -0.359681625\n",
       "141681 -0.014566542\n",
       "143083  0.951923446\n",
       "143127 -0.407536597\n",
       "144448  0.787531204\n",
       "148730 -0.635066212\n",
       "152224 -0.973117654\n",
       "154380 -1.105936922\n",
       "155321 -1.238378922\n",
       "160263  0.423004874\n",
       "161325 -0.291719149\n",
       "161616  0.065051147\n",
       "162183 -0.103210979\n",
       "168713 -0.703204714\n",
       "169174 -0.987207623\n",
       "169372 -0.319861709\n",
       "169577  3.960063612\n",
       "169897 -0.266471726\n",
       "170017  2.888231579\n",
       "170063  4.180982164\n",
       "170592  1.355106701\n",
       "170654  7.393989400\n",
       "170794  3.185269246\n",
       "170892  0.149060688\n",
       "171998 -0.980820353\n",
       "173434 -0.473828595\n",
       "173576  1.043539630\n",
       "202061 -0.959670388\n",
       "202326 -1.043723069\n",
       " [ reached 'max' / getOption(\"max.print\") -- omitted 1489 rows ]\n",
       "\n",
       "with conditional variances for “geonameid” "
      ]
     },
     "metadata": {},
     "output_type": "display_data"
    },
    {
     "data": {
      "text/html": [
       "0.980167022336948"
      ],
      "text/latex": [
       "0.980167022336948"
      ],
      "text/markdown": [
       "0.980167022336948"
      ],
      "text/plain": [
       "[1] 0.980167"
      ]
     },
     "metadata": {},
     "output_type": "display_data"
    }
   ],
   "source": [
    "# Decomposing between and within effects with a partial pooling (varying-intercept) model\n",
    "\n",
    "library(plyr)\n",
    "\n",
    "mean <- ddply(cityyear.data, .(geonameid), \n",
    "                    summarise, \n",
    "                    between_nightlights_5k_pc_l_centered=mean(nightlights_5k_pc_l_centered))\n",
    "\n",
    "# Merging with data\n",
    "\n",
    "cityyear.data <- merge(cityyear.data,mean,by.x=c(\"geonameid\"),by.y=c(\"geonameid\"), all.x=T)\n",
    "\n",
    "#cityyear.data$within_nightlights_5k_pc_l_centered <- cityyear.data$nightlights_5k_pc_l_centered - cityyear.data$between_nightlights_5k_pc_l_centered\n",
    "\n",
    "m6 <- lmer(nrprotests ~ nightlights_5k_pc_l_centered + between_nightlights_5k_pc_l_centered + (1 | geonameid), data=cityyear.data)\n",
    "summary(m6) # Note that std.dev of country (Intercept) is large compared to the residual standard error\n",
    "coef(m6) # Varying-intercepts and beta coefficients\n",
    "ranef(m6) # Change in intercepts for each group\n",
    "\n",
    "cor(cityyear.data$nightlights_5k_pc_l_centered, cityyear.data$between_nightlights_5k_pc_l_centered, method=\"pearson\") # Correlation between the two is HIGH\n"
   ]
  }
 ],
 "metadata": {
  "kernelspec": {
   "display_name": "R",
   "language": "R",
   "name": "ir"
  },
  "language_info": {
   "codemirror_mode": "r",
   "file_extension": ".r",
   "mimetype": "text/x-r-source",
   "name": "R",
   "pygments_lexer": "r",
   "version": "3.6.3"
  }
 },
 "nbformat": 4,
 "nbformat_minor": 4
}
